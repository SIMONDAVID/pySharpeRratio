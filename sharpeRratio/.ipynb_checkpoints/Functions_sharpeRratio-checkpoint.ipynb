{
 "cells": [
  {
   "cell_type": "code",
   "execution_count": 18,
   "metadata": {
    "collapsed": false
   },
   "outputs": [
    {
     "data": {
      "text/html": [
       "<style>.container { width:100% !important; }</style>"
      ],
      "text/plain": [
       "<IPython.core.display.HTML object>"
      ]
     },
     "metadata": {},
     "output_type": "display_data"
    },
    {
     "name": "stdout",
     "output_type": "stream",
     "text": [
      "The line_profiler extension is already loaded. To reload it, use:\n",
      "  %reload_ext line_profiler\n"
     ]
    }
   ],
   "source": [
    "from IPython.core.display import display, HTML\n",
    "display(HTML(\"<style>.container { width:100% !important; }</style>\"))\n",
    "\n",
    "%load_ext line_profiler\n",
    "\n",
    "# Ignore Warnings\n",
    "def warn(*args, **kwargs):\n",
    "    pass\n",
    "import warnings\n",
    "warnings.warn = warn\n",
    "\n",
    "from helper_functions import tic, toc"
   ]
  },
  {
   "cell_type": "code",
   "execution_count": 23,
   "metadata": {
    "collapsed": false
   },
   "outputs": [
    {
     "name": "stdout",
     "output_type": "stream",
     "text": [
      "Overwriting helpers.py\n"
     ]
    }
   ],
   "source": [
    "%%writefile helpers.py\n",
    "\n",
    "import numba\n",
    "import numpy as np\n",
    "import pandas as pd\n",
    "\n",
    "numba.jit()\n",
    "def compute_r0(x):\n",
    "    \"\"\" Computeds r0\n",
    "    \n",
    "    Parameters\n",
    "    ----------\n",
    "    x:  numpy array of shape = [n_samples]\n",
    "        A (non-empty) numeric vector of increments (e.g. returns).\n",
    "    \n",
    "    Example\n",
    "    -------\n",
    "    x = numpy.random.rand(1000)\n",
    "    r0 = compute_r0(x)\n",
    "    \n",
    "    Returns\n",
    "    -------\n",
    "    r0: The number of upper records minus lower records over the \n",
    "        cumulated sum of x.\n",
    "    \n",
    "    \"\"\"   \n",
    "    # Compute the rolling maximum of the log returns\n",
    "    rolling_max = pd.expanding_max(np.cumsum(x),min_periods=1)\n",
    "    \n",
    "    # Compute the rolling minimum of the log returns\n",
    "    rolling_min = pd.expanding_min(np.cumsum(x),min_periods=1)\n",
    "    \n",
    "    # Get the number of unique values for each. This should signal the unique jumps in each case. \n",
    "    uppers = np.unique(rolling_max).shape[0]\n",
    "    downers = np.unique(rolling_min).shape[0]\n",
    "    \n",
    "    # Compute the difference to get R0\n",
    "    r_0 = uppers - downers\n",
    "    \n",
    "    return r_0"
   ]
  },
  {
   "cell_type": "code",
   "execution_count": 24,
   "metadata": {
    "collapsed": false
   },
   "outputs": [
    {
     "name": "stdout",
     "output_type": "stream",
     "text": [
      "Overwriting sharpeRratio.py\n"
     ]
    }
   ],
   "source": [
    "%%writefile sharpeRratio.py\n",
    "\n",
    "import numba\n",
    "import numpy as np\n",
    "import pandas as pd\n",
    "\n",
    "from scipy.interpolate import interpolate\n",
    "from scipy import stats\n",
    "\n",
    "import helpers\n",
    "\n",
    "numba.jit()\n",
    "def estimateSNR(x,permutations=1000):\n",
    "    \"\"\"A moment-free Sharpe (signal-to-noise) ratio estimator.\n",
    "\n",
    "    This function accepts a vector of price returns (or any possibly heavy-tailed\n",
    "    data) and returns a list containing the moment-free estimator, the vanilla \n",
    "    estimator.\n",
    "     \n",
    "    Parameters\n",
    "    ----------\n",
    "    x : numpy array of shape = [n_samples]\n",
    "        A (non-empty) numeric vector of values.\n",
    "\n",
    "    permutations: \n",
    "        The basic assumption of the estimator is that the sample data\n",
    "        are independent and indentically distributed. To improve the efficiency \n",
    "        (precision) of the test, it is a good idea to average it over several random\n",
    "        index permutations.\n",
    "\n",
    "    Example\n",
    "    -------\n",
    "    >>> x = numpy.random.rand(100)\n",
    "    >>> snr,r0bar,n = estimateSNR(x,numPerm=1000)\n",
    "\n",
    "\n",
    "    Returns\n",
    "    -------\n",
    "    snr:  The signal-to-noise ratio. To have something comparable with\n",
    "          a t-statistics, multiply by sqrt(length(x)).\n",
    "\n",
    "    r0bar:  The average number of upper records minus lower records over\n",
    "            the permutations of the cumulated sum of x.\n",
    "\n",
    "    n:  The length of the vector x. It may be smaller than the input\n",
    "        length if x contains NaNs.\n",
    "    \n",
    "    \"\"\"   \n",
    "    N = x.shape[0]\n",
    "    \n",
    "    # Compute nu\n",
    "    nu, _, _ = stats.t.fit(x)\n",
    "\n",
    "    # Compute r0bar over permutations\n",
    "    r0bar = np.mean([helpers.compute_r0(x[np.random.permutation(x.shape[0])]) \n",
    "                     for perm in range(permutations)])\n",
    "\n",
    "    # Get spline data\n",
    "    a_data = pd.read_csv('spline_data.csv',index_col=0)\n",
    "\n",
    "    # Estimate Spline\n",
    "    f_a = interpolate.interp1d(a_data['x'], a_data['a'], kind='cubic')\n",
    "\n",
    "    # Compute signal to noise ratio\n",
    "    snr = np.sign(r0bar/N)*f_a(np.abs(r0bar/N))*(1.0-8.0/3.0 * nu**(-1.5))\n",
    "\n",
    "    # Return snr\n",
    "    return snr"
   ]
  },
  {
   "cell_type": "code",
   "execution_count": null,
   "metadata": {
    "collapsed": true
   },
   "outputs": [],
   "source": []
  }
 ],
 "metadata": {
  "anaconda-cloud": {},
  "kernelspec": {
   "display_name": "Python [conda root]",
   "language": "python",
   "name": "conda-root-py"
  },
  "language_info": {
   "codemirror_mode": {
    "name": "ipython",
    "version": 3
   },
   "file_extension": ".py",
   "mimetype": "text/x-python",
   "name": "python",
   "nbconvert_exporter": "python",
   "pygments_lexer": "ipython3",
   "version": "3.5.2"
  }
 },
 "nbformat": 4,
 "nbformat_minor": 2
}
