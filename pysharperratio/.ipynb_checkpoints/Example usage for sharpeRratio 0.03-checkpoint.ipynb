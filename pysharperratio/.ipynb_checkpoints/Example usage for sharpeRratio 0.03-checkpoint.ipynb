{
 "cells": [
  {
   "cell_type": "code",
   "execution_count": 1,
   "metadata": {
    "collapsed": false
   },
   "outputs": [
    {
     "data": {
      "text/html": [
       "<style>.container { width:100% !important; }</style>"
      ],
      "text/plain": [
       "<IPython.core.display.HTML object>"
      ]
     },
     "metadata": {},
     "output_type": "display_data"
    }
   ],
   "source": [
    "from IPython.core.display import display, HTML\n",
    "display(HTML(\"<style>.container { width:100% !important; }</style>\"))\n",
    "\n",
    "%load_ext line_profiler\n",
    "\n",
    "# Ignore Warnings\n",
    "def warn(*args, **kwargs):\n",
    "    pass\n",
    "import warnings\n",
    "warnings.warn = warn\n",
    "\n",
    "from helper_functions import tic, toc"
   ]
  },
  {
   "cell_type": "code",
   "execution_count": 2,
   "metadata": {
    "ExecuteTime": {
     "end_time": "2016-09-07T21:54:56.754552",
     "start_time": "2016-09-07T21:54:55.144746"
    },
    "collapsed": false
   },
   "outputs": [],
   "source": [
    "import numpy as np\n",
    "import numba\n",
    "\n",
    "import pandas as pd\n",
    "import pandas_datareader.data as web\n",
    "\n",
    "import datetime\n",
    "\n",
    "%matplotlib inline\n",
    "import matplotlib.pylab as plt\n",
    "import seaborn\n",
    "\n",
    "from scipy import stats,optimize\n",
    "\n",
    "from scipy.interpolate import interpolate"
   ]
  },
  {
   "cell_type": "markdown",
   "metadata": {},
   "source": [
    "# Functions"
   ]
  },
  {
   "cell_type": "code",
   "execution_count": 4,
   "metadata": {
    "ExecuteTime": {
     "end_time": "2016-09-07T21:57:09.750841",
     "start_time": "2016-09-07T21:57:09.716407"
    },
    "collapsed": true
   },
   "outputs": [],
   "source": [
    "def compute_r0(rets):\n",
    "    # Compute the rolling maximum of the log returns\n",
    "    rolling_max = pd.expanding_max(np.cumsum(rets),min_periods=1)\n",
    "    # Compute the rolling minimum of the log returns\n",
    "    rolling_min = pd.expanding_min(np.cumsum(rets),min_periods=1)\n",
    "    # Get the number of unique values for each. This should signal the unique jumps in each case. \n",
    "    uppers = np.unique(rolling_max).shape[0]\n",
    "    downers = np.unique(rolling_min).shape[0]\n",
    "    # Compute the difference to get R0\n",
    "    r_0 = uppers - downers\n",
    "    return r_0"
   ]
  },
  {
   "cell_type": "markdown",
   "metadata": {
    "ExecuteTime": {
     "end_time": "2016-09-07T21:57:14.207874",
     "start_time": "2016-09-07T21:57:14.205196"
    }
   },
   "source": [
    "# Parameters"
   ]
  },
  {
   "cell_type": "code",
   "execution_count": 5,
   "metadata": {
    "ExecuteTime": {
     "end_time": "2016-09-07T22:08:13.580586",
     "start_time": "2016-09-07T22:08:13.576367"
    },
    "collapsed": false
   },
   "outputs": [
    {
     "name": "stdout",
     "output_type": "stream",
     "text": [
      "100\n"
     ]
    }
   ],
   "source": [
    "# The sample series length\n",
    "N = 2500\n",
    "\n",
    "# Max block width to consider\n",
    "block_size_max = int(2*np.sqrt(N))\n",
    "\n",
    "# Number of bootstraps. Probably better to increase this to 5K depending on computation time. \n",
    "bootstraps = 1000\n",
    "\n",
    "print(block_size_max)"
   ]
  },
  {
   "cell_type": "markdown",
   "metadata": {},
   "source": [
    "# Sample Data"
   ]
  },
  {
   "cell_type": "code",
   "execution_count": 6,
   "metadata": {
    "ExecuteTime": {
     "end_time": "2016-09-07T22:12:27.127331",
     "start_time": "2016-09-07T22:12:26.908734"
    },
    "collapsed": false
   },
   "outputs": [
    {
     "data": {
      "text/plain": [
       "Date\n",
       "2007-02-27   -0.039841\n",
       "2007-02-28    0.010199\n",
       "2007-03-01   -0.002985\n",
       "2007-03-02   -0.013182\n",
       "2007-03-05   -0.009565\n",
       "Name: Adj Close, dtype: float64"
      ]
     },
     "execution_count": 6,
     "metadata": {},
     "output_type": "execute_result"
    }
   ],
   "source": [
    "# Get some sample data\n",
    "spy = web.DataReader('SPY', 'yahoo', datetime.date(2000,1,1))['Adj Close']\n",
    "# Take the most recent N+1 values\n",
    "spy = spy[-N-1:]\n",
    "sample = spy.copy()\n",
    "log_rets = np.log(spy) - np.log(spy.shift(1))\n",
    "log_rets = log_rets.dropna()\n",
    "log_rets.head()"
   ]
  },
  {
   "cell_type": "markdown",
   "metadata": {},
   "source": [
    "# Compute $R_0$ on original series"
   ]
  },
  {
   "cell_type": "code",
   "execution_count": 7,
   "metadata": {
    "ExecuteTime": {
     "end_time": "2016-09-07T22:12:28.298959",
     "start_time": "2016-09-07T22:12:28.292928"
    },
    "collapsed": false
   },
   "outputs": [
    {
     "data": {
      "text/plain": [
       "186"
      ]
     },
     "execution_count": 7,
     "metadata": {},
     "output_type": "execute_result"
    }
   ],
   "source": [
    "# Typically sqrt(num) for zero-centered value or 2*(sqrt(N/pi))\n",
    "R0 = compute_r0(log_rets)\n",
    "R0"
   ]
  },
  {
   "cell_type": "markdown",
   "metadata": {},
   "source": [
    "# Get $\\nu$ parameter"
   ]
  },
  {
   "cell_type": "code",
   "execution_count": 8,
   "metadata": {
    "ExecuteTime": {
     "end_time": "2016-09-07T22:12:28.701100",
     "start_time": "2016-09-07T22:12:28.649986"
    },
    "collapsed": false
   },
   "outputs": [
    {
     "name": "stdout",
     "output_type": "stream",
     "text": [
      "nu: 2.31144837972\n"
     ]
    }
   ],
   "source": [
    "nu, _, _ = stats.t.fit(log_rets)\n",
    "print(\"nu: \" + str(nu))"
   ]
  },
  {
   "cell_type": "markdown",
   "metadata": {},
   "source": [
    "## Compute R_0 Permutations"
   ]
  },
  {
   "cell_type": "code",
   "execution_count": 9,
   "metadata": {
    "collapsed": false
   },
   "outputs": [],
   "source": [
    "r0_perm = np.zeros(bootstraps)\n",
    "\n",
    "for perm in range(bootstraps):\n",
    "    r0_perm[perm] = compute_r0(np.random.choice(log_rets.values,N,replace=False))"
   ]
  },
  {
   "cell_type": "code",
   "execution_count": 75,
   "metadata": {
    "collapsed": false
   },
   "outputs": [],
   "source": [
    "a_data = pd.read_csv('spline_data2.csv',index_col=0)"
   ]
  },
  {
   "cell_type": "code",
   "execution_count": 76,
   "metadata": {
    "collapsed": false
   },
   "outputs": [],
   "source": [
    "f_a = interpolate.interp1d(a_data['x'], a_data['a'], kind='cubic')"
   ]
  },
  {
   "cell_type": "code",
   "execution_count": 77,
   "metadata": {
    "ExecuteTime": {
     "end_time": "2016-09-07T22:28:36.501231",
     "start_time": "2016-09-07T22:28:36.472400"
    },
    "collapsed": false
   },
   "outputs": [
    {
     "name": "stdout",
     "output_type": "stream",
     "text": [
      "Mean R0:\n",
      "Replacement Block 1:0.0192059384757\n",
      "Stationary 1:0.0097772746551\n",
      "Circular 1:0.00911893020751\n",
      "Block 1:0.00841979927494\n",
      "Permutation 1:0.00901717368677\n",
      "\n",
      "Replacement Block 2:0.0192059384757\n",
      "Stationary 2:0.00864799104592\n",
      "Circular 2:0.00831306067662\n",
      "Block 2:0.00803004442729\n",
      "Permutation 2:0.00901717368677\n",
      "\n",
      "Replacement Block 3:0.0192059384757\n",
      "Stationary 3:0.00715157699248\n",
      "Circular 3:0.0073005610655\n",
      "Block 3:0.00980395384107\n",
      "Permutation 3:0.00901717368677\n",
      "\n",
      "Replacement Block 4:0.0192059384757\n",
      "Stationary 4:0.0069946893459\n",
      "Circular 4:0.00765264916945\n",
      "Block 4:0.00984090587626\n",
      "Permutation 4:0.00901717368677\n",
      "\n",
      "Replacement Block 5:0.0192059384757\n",
      "Stationary 5:0.00645194754878\n",
      "Circular 5:0.00798000793371\n",
      "Block 5:0.00810217044031\n",
      "Permutation 5:0.00901717368677\n",
      "\n",
      "Replacement Block 6:0.0192059384757\n",
      "Stationary 6:0.00466384571202\n",
      "Circular 6:0.00608862448117\n",
      "Block 6:0.0104502841328\n",
      "Permutation 6:0.00901717368677\n",
      "\n",
      "Replacement Block 7:0.0192059384757\n",
      "Stationary 7:0.00479473992514\n",
      "Circular 7:0.0060265574186\n",
      "Block 7:0.00904158271006\n",
      "Permutation 7:0.00901717368677\n",
      "\n",
      "Replacement Block 8:0.0192059384757\n",
      "Stationary 8:0.00501533058713\n",
      "Circular 8:0.00601854540587\n",
      "Block 8:0.0108983689474\n",
      "Permutation 8:0.00901717368677\n",
      "\n",
      "Replacement Block 9:0.0192059384757\n",
      "Stationary 9:0.00410947766529\n",
      "Circular 9:0.00499357813403\n",
      "Block 9:0.0127622096476\n",
      "Permutation 9:0.00901717368677\n",
      "\n",
      "Replacement Block 10:0.0192059384757\n",
      "Stationary 10:0.00530348738569\n",
      "Circular 10:0.00407584213785\n",
      "Block 10:0.0136517150842\n",
      "Permutation 10:0.00901717368677\n",
      "\n",
      "Replacement Block 11:0.0192059384757\n",
      "Stationary 11:0.00413945676501\n",
      "Circular 11:0.0036318415655\n",
      "Block 11:0.0139964361463\n",
      "Permutation 11:0.00901717368677\n",
      "\n",
      "Replacement Block 12:0.0192059384757\n",
      "Stationary 12:0.00499160150743\n",
      "Circular 12:0.00393114599243\n",
      "Block 12:0.0138290532446\n",
      "Permutation 12:0.00901717368677\n",
      "\n",
      "Replacement Block 13:0.0192059384757\n",
      "Stationary 13:0.00406092335488\n",
      "Circular 13:0.00558148233538\n",
      "Block 13:0.0139106706885\n",
      "Permutation 13:0.00901717368677\n",
      "\n",
      "Replacement Block 14:0.0192059384757\n",
      "Stationary 14:0.00504700106365\n",
      "Circular 14:0.00408144146255\n",
      "Block 14:0.0140046081741\n",
      "Permutation 14:0.00901717368677\n",
      "\n",
      "Replacement Block 15:0.0192059384757\n",
      "Stationary 15:0.00450300067201\n",
      "Circular 15:0.00493040055357\n",
      "Block 15:0.0134481014088\n",
      "Permutation 15:0.00901717368677\n",
      "\n",
      "Replacement Block 16:0.0192059384757\n",
      "Stationary 16:0.00378437911069\n",
      "Circular 16:0.00419210713956\n",
      "Block 16:0.0139372094089\n",
      "Permutation 16:0.00901717368677\n",
      "\n",
      "Replacement Block 17:0.0192059384757\n",
      "Stationary 17:0.00382092607231\n",
      "Circular 17:0.00337698714729\n",
      "Block 17:0.0122292248455\n",
      "Permutation 17:0.00901717368677\n",
      "\n",
      "Replacement Block 18:0.0192059384757\n",
      "Stationary 18:0.004621063806\n",
      "Circular 18:0.00379168110219\n",
      "Block 18:0.0131489915069\n",
      "Permutation 18:0.00901717368677\n",
      "\n",
      "Replacement Block 19:0.0192059384757\n",
      "Stationary 19:0.00495012674762\n",
      "Circular 19:0.00421096802888\n",
      "Block 19:0.0132324095946\n",
      "Permutation 19:0.00901717368677\n",
      "\n"
     ]
    }
   ],
   "source": [
    "# Repeat over all the block sizes\n",
    "print (\"Permutation output:\" + str(np.sign(r0_perm.mean()/N)*f_a(np.abs(r0_perm.mean()/N))*(1.0-8.0/3.0 * nu**(-1.5))))"
   ]
  },
  {
   "cell_type": "code",
   "execution_count": null,
   "metadata": {
    "collapsed": true
   },
   "outputs": [],
   "source": []
  }
 ],
 "metadata": {
  "anaconda-cloud": {},
  "kernelspec": {
   "display_name": "Python [conda root]",
   "language": "python",
   "name": "conda-root-py"
  },
  "language_info": {
   "codemirror_mode": {
    "name": "ipython",
    "version": 3
   },
   "file_extension": ".py",
   "mimetype": "text/x-python",
   "name": "python",
   "nbconvert_exporter": "python",
   "pygments_lexer": "ipython3",
   "version": "3.5.2"
  }
 },
 "nbformat": 4,
 "nbformat_minor": 1
}
