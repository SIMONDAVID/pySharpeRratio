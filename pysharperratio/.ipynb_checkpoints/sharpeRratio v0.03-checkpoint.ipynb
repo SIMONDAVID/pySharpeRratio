{
 "cells": [
  {
   "cell_type": "code",
   "execution_count": 1,
   "metadata": {
    "collapsed": false
   },
   "outputs": [
    {
     "data": {
      "text/html": [
       "<style>.container { width:100% !important; }</style>"
      ],
      "text/plain": [
       "<IPython.core.display.HTML object>"
      ]
     },
     "metadata": {},
     "output_type": "display_data"
    }
   ],
   "source": [
    "from IPython.core.display import display, HTML\n",
    "display(HTML(\"<style>.container { width:100% !important; }</style>\"))\n",
    "\n",
    "# Ignore Warnings\n",
    "def warn(*args, **kwargs):\n",
    "    pass\n",
    "import warnings\n",
    "warnings.warn = warn"
   ]
  },
  {
   "cell_type": "code",
   "execution_count": 2,
   "metadata": {
    "ExecuteTime": {
     "end_time": "2016-09-07T21:54:56.754552",
     "start_time": "2016-09-07T21:54:55.144746"
    },
    "collapsed": false
   },
   "outputs": [],
   "source": [
    "import numpy as np\n",
    "import pandas as pd\n",
    "import pandas_datareader.data as web\n",
    "\n",
    "import datetime\n",
    "\n",
    "from scipy import stats,optimize\n",
    "from scipy.interpolate import interpolate"
   ]
  },
  {
   "cell_type": "markdown",
   "metadata": {},
   "source": [
    "# Functions"
   ]
  },
  {
   "cell_type": "code",
   "execution_count": 3,
   "metadata": {
    "ExecuteTime": {
     "end_time": "2016-09-07T21:57:09.750841",
     "start_time": "2016-09-07T21:57:09.716407"
    },
    "collapsed": true
   },
   "outputs": [],
   "source": [
    "def compute_r0(rets):\n",
    "    # Compute the rolling maximum of the log returns\n",
    "    rolling_max = pd.expanding_max(np.cumsum(rets),min_periods=1)\n",
    "    # Compute the rolling minimum of the log returns\n",
    "    rolling_min = pd.expanding_min(np.cumsum(rets),min_periods=1)\n",
    "    # Get the number of unique values for each. This should signal \n",
    "    # the unique jumps in each case. \n",
    "    uppers = np.unique(rolling_max).shape[0]\n",
    "    downers = np.unique(rolling_min).shape[0]\n",
    "    # Compute the difference to get R0\n",
    "    r_0 = uppers - downers\n",
    "    return r_0"
   ]
  },
  {
   "cell_type": "markdown",
   "metadata": {
    "ExecuteTime": {
     "end_time": "2016-09-07T21:57:14.207874",
     "start_time": "2016-09-07T21:57:14.205196"
    }
   },
   "source": [
    "# Parameters"
   ]
  },
  {
   "cell_type": "code",
   "execution_count": 4,
   "metadata": {
    "ExecuteTime": {
     "end_time": "2016-09-07T22:08:13.580586",
     "start_time": "2016-09-07T22:08:13.576367"
    },
    "collapsed": false
   },
   "outputs": [],
   "source": [
    "# The sample series length\n",
    "N = 500\n",
    "\n",
    "# Max block width to consider\n",
    "block_size_max = int(np.sqrt(N))\n",
    "\n",
    "# Number of bootstraps. Probably better to increase this to \n",
    "# 5K depending on computation time. \n",
    "bootstraps = 1000"
   ]
  },
  {
   "cell_type": "markdown",
   "metadata": {},
   "source": [
    "# Sample Data"
   ]
  },
  {
   "cell_type": "code",
   "execution_count": 5,
   "metadata": {
    "ExecuteTime": {
     "end_time": "2016-09-07T22:12:27.127331",
     "start_time": "2016-09-07T22:12:26.908734"
    },
    "collapsed": false
   },
   "outputs": [
    {
     "data": {
      "text/plain": [
       "Date\n",
       "2015-02-06   -0.002769\n",
       "2015-02-09   -0.004486\n",
       "2015-02-10    0.010597\n",
       "2015-02-11    0.000580\n",
       "2015-02-12    0.009571\n",
       "Name: Adj Close, dtype: float64"
      ]
     },
     "execution_count": 5,
     "metadata": {},
     "output_type": "execute_result"
    }
   ],
   "source": [
    "# Get some sample data\n",
    "spy = web.DataReader('SPY', 'yahoo', datetime.date(2004,1,1))['Adj Close']\n",
    "\n",
    "# Take the most recent N+1 values\n",
    "spy = spy[-N-1:]\n",
    "sample = spy.copy()\n",
    "log_rets = np.log(spy) - np.log(spy.shift(1))\n",
    "log_rets = log_rets.dropna()\n",
    "log_rets.head()"
   ]
  },
  {
   "cell_type": "markdown",
   "metadata": {},
   "source": [
    "# Compute $R_0$ on original series"
   ]
  },
  {
   "cell_type": "code",
   "execution_count": 6,
   "metadata": {
    "ExecuteTime": {
     "end_time": "2016-09-07T22:12:28.298959",
     "start_time": "2016-09-07T22:12:28.292928"
    },
    "collapsed": false
   },
   "outputs": [
    {
     "data": {
      "text/plain": [
       "45"
      ]
     },
     "execution_count": 6,
     "metadata": {},
     "output_type": "execute_result"
    }
   ],
   "source": [
    "# Typically sqrt(num) for zero-centered value or 2*(sqrt(N/pi))\n",
    "R0 = compute_r0(log_rets)\n",
    "R0"
   ]
  },
  {
   "cell_type": "markdown",
   "metadata": {},
   "source": [
    "# Get $\\nu$ parameter"
   ]
  },
  {
   "cell_type": "code",
   "execution_count": 7,
   "metadata": {
    "ExecuteTime": {
     "end_time": "2016-09-07T22:12:28.701100",
     "start_time": "2016-09-07T22:12:28.649986"
    },
    "collapsed": false
   },
   "outputs": [
    {
     "name": "stdout",
     "output_type": "stream",
     "text": [
      "nu:3.02459450723\n"
     ]
    }
   ],
   "source": [
    "nu, _, _ = stats.t.fit(log_rets)\n",
    "print(\"nu:\" + str(nu))"
   ]
  },
  {
   "cell_type": "markdown",
   "metadata": {},
   "source": [
    "# Permutations over the log returns"
   ]
  },
  {
   "cell_type": "code",
   "execution_count": 17,
   "metadata": {
    "collapsed": false
   },
   "outputs": [
    {
     "data": {
      "text/plain": [
       "array([ 0.00028099,  0.00028099,  0.00028099,  0.00028099,  0.00028099,\n",
       "        0.00028099,  0.00028099,  0.00028099,  0.00028099,  0.00028099,\n",
       "        0.00028099,  0.00028099,  0.00028099,  0.00028099,  0.00028099,\n",
       "        0.00028099,  0.00028099,  0.00028099,  0.00028099,  0.00028099,\n",
       "        0.00028099,  0.00028099,  0.00028099,  0.00028099,  0.00028099,\n",
       "        0.00028099,  0.00028099,  0.00028099,  0.00028099,  0.00028099,\n",
       "        0.00028099,  0.00028099,  0.00028099,  0.00028099,  0.00028099,\n",
       "        0.00028099,  0.00028099,  0.00028099,  0.00028099,  0.00028099,\n",
       "        0.00028099,  0.00028099,  0.00028099,  0.00028099,  0.00028099,\n",
       "        0.00028099,  0.00028099,  0.00028099,  0.00028099,  0.00028099,\n",
       "        0.00028099,  0.00028099,  0.00028099,  0.00028099,  0.00028099,\n",
       "        0.00028099,  0.00028099,  0.00028099,  0.00028099,  0.00028099,\n",
       "        0.00028099,  0.00028099,  0.00028099,  0.00028099,  0.00028099,\n",
       "        0.00028099,  0.00028099,  0.00028099,  0.00028099,  0.00028099,\n",
       "        0.00028099,  0.00028099,  0.00028099,  0.00028099,  0.00028099,\n",
       "        0.00028099,  0.00028099,  0.00028099,  0.00028099,  0.00028099,\n",
       "        0.00028099,  0.00028099,  0.00028099,  0.00028099,  0.00028099,\n",
       "        0.00028099,  0.00028099,  0.00028099,  0.00028099,  0.00028099,\n",
       "        0.00028099,  0.00028099,  0.00028099,  0.00028099,  0.00028099,\n",
       "        0.00028099,  0.00028099,  0.00028099,  0.00028099,  0.00028099])"
      ]
     },
     "execution_count": 17,
     "metadata": {},
     "output_type": "execute_result"
    }
   ],
   "source": [
    "permutations = 100\n",
    "r0_perm = np.array([np.random.permutation(log_rets.values) for i in range(permutations)]).mean(1)\n",
    "r0_perm"
   ]
  },
  {
   "cell_type": "markdown",
   "metadata": {},
   "source": [
    "# Estimate the Spline"
   ]
  },
  {
   "cell_type": "code",
   "execution_count": 10,
   "metadata": {
    "collapsed": false
   },
   "outputs": [],
   "source": [
    "a_data = pd.read_csv('spline_data2.csv',index_col=0)"
   ]
  },
  {
   "cell_type": "code",
   "execution_count": 11,
   "metadata": {
    "collapsed": false
   },
   "outputs": [
    {
     "data": {
      "text/html": [
       "<div>\n",
       "<table border=\"1\" class=\"dataframe\">\n",
       "  <thead>\n",
       "    <tr style=\"text-align: right;\">\n",
       "      <th></th>\n",
       "      <th>x</th>\n",
       "      <th>a</th>\n",
       "    </tr>\n",
       "  </thead>\n",
       "  <tbody>\n",
       "    <tr>\n",
       "      <th>1</th>\n",
       "      <td>0.000</td>\n",
       "      <td>0.000000</td>\n",
       "    </tr>\n",
       "    <tr>\n",
       "      <th>2</th>\n",
       "      <td>0.001</td>\n",
       "      <td>0.002510</td>\n",
       "    </tr>\n",
       "    <tr>\n",
       "      <th>3</th>\n",
       "      <td>0.002</td>\n",
       "      <td>0.003198</td>\n",
       "    </tr>\n",
       "    <tr>\n",
       "      <th>4</th>\n",
       "      <td>0.003</td>\n",
       "      <td>0.003875</td>\n",
       "    </tr>\n",
       "    <tr>\n",
       "      <th>5</th>\n",
       "      <td>0.004</td>\n",
       "      <td>0.004543</td>\n",
       "    </tr>\n",
       "  </tbody>\n",
       "</table>\n",
       "</div>"
      ],
      "text/plain": [
       "       x         a\n",
       "1  0.000  0.000000\n",
       "2  0.001  0.002510\n",
       "3  0.002  0.003198\n",
       "4  0.003  0.003875\n",
       "5  0.004  0.004543"
      ]
     },
     "execution_count": 11,
     "metadata": {},
     "output_type": "execute_result"
    }
   ],
   "source": [
    "a_data.head()"
   ]
  },
  {
   "cell_type": "code",
   "execution_count": 12,
   "metadata": {
    "collapsed": false
   },
   "outputs": [],
   "source": [
    "f_a = interpolate.interp1d(a_data['x'], a_data['a'], kind='cubic')"
   ]
  },
  {
   "cell_type": "code",
   "execution_count": 13,
   "metadata": {
    "collapsed": false
   },
   "outputs": [
    {
     "data": {
      "text/plain": [
       "array(0.0029323155167464265)"
      ]
     },
     "execution_count": 13,
     "metadata": {},
     "output_type": "execute_result"
    }
   ],
   "source": [
    "f_a(0.0015)"
   ]
  },
  {
   "cell_type": "markdown",
   "metadata": {},
   "source": [
    "# Compute sharpeRratio"
   ]
  },
  {
   "cell_type": "code",
   "execution_count": 16,
   "metadata": {
    "ExecuteTime": {
     "end_time": "2016-09-07T22:28:36.501231",
     "start_time": "2016-09-07T22:28:36.472400"
    },
    "collapsed": false,
    "scrolled": false
   },
   "outputs": [
    {
     "name": "stdout",
     "output_type": "stream",
     "text": [
      "R0 averaged over Bootstrap series\n",
      "Block width 1:0.0189784440777\n",
      "R0 computed on original series\n",
      "Block width 1:0.0345988021435\n",
      "\n",
      "R0 averaged over Bootstrap series\n",
      "Block width 2:0.0214617305627\n",
      "R0 computed on original series\n",
      "Block width 2:0.0345988021435\n",
      "\n",
      "R0 averaged over Bootstrap series\n",
      "Block width 3:0.0245010016742\n",
      "R0 computed on original series\n",
      "Block width 3:0.0345988021435\n",
      "\n",
      "R0 averaged over Bootstrap series\n",
      "Block width 4:0.0261788219107\n",
      "R0 computed on original series\n",
      "Block width 4:0.0345988021435\n",
      "\n",
      "R0 averaged over Bootstrap series\n",
      "Block width 5:0.0265670167337\n",
      "R0 computed on original series\n",
      "Block width 5:0.0345988021435\n",
      "\n",
      "R0 averaged over Bootstrap series\n",
      "Block width 6:0.0288684101572\n",
      "R0 computed on original series\n",
      "Block width 6:0.0345988021435\n",
      "\n",
      "R0 averaged over Bootstrap series\n",
      "Block width 7:0.027586881515\n",
      "R0 computed on original series\n",
      "Block width 7:0.0345988021435\n",
      "\n",
      "R0 averaged over Bootstrap series\n",
      "Block width 8:0.0295929875057\n",
      "R0 computed on original series\n",
      "Block width 8:0.0345988021435\n",
      "\n",
      "R0 averaged over Bootstrap series\n",
      "Block width 9:0.027927543816\n",
      "R0 computed on original series\n",
      "Block width 9:0.0345988021435\n",
      "\n",
      "R0 averaged over Bootstrap series\n",
      "Block width 10:0.029781974738\n",
      "R0 computed on original series\n",
      "Block width 10:0.0345988021435\n",
      "\n",
      "R0 averaged over Bootstrap series\n",
      "Block width 11:0.0303989372679\n",
      "R0 computed on original series\n",
      "Block width 11:0.0345988021435\n",
      "\n",
      "R0 averaged over Bootstrap series\n",
      "Block width 12:0.0315533008536\n",
      "R0 computed on original series\n",
      "Block width 12:0.0345988021435\n",
      "\n",
      "R0 averaged over Bootstrap series\n",
      "Block width 13:0.0315037711303\n",
      "R0 computed on original series\n",
      "Block width 13:0.0345988021435\n",
      "\n",
      "R0 averaged over Bootstrap series\n",
      "Block width 14:0.0310140219974\n",
      "R0 computed on original series\n",
      "Block width 14:0.0345988021435\n",
      "\n",
      "R0 averaged over Bootstrap series\n",
      "Block width 15:0.0316028298988\n",
      "R0 computed on original series\n",
      "Block width 15:0.0345988021435\n",
      "\n",
      "R0 averaged over Bootstrap series\n",
      "Block width 16:0.0322491267881\n",
      "R0 computed on original series\n",
      "Block width 16:0.0345988021435\n",
      "\n",
      "R0 averaged over Bootstrap series\n",
      "Block width 17:0.0318616553045\n",
      "R0 computed on original series\n",
      "Block width 17:0.0345988021435\n",
      "\n",
      "R0 averaged over Bootstrap series\n",
      "Block width 18:0.0335783473491\n",
      "R0 computed on original series\n",
      "Block width 18:0.0345988021435\n",
      "\n",
      "R0 averaged over Bootstrap series\n",
      "Block width 19:0.0319798868895\n",
      "R0 computed on original series\n",
      "Block width 19:0.0345988021435\n",
      "\n",
      "R0 averaged over Bootstrap series\n",
      "Block width 20:0.0321332765225\n",
      "R0 computed on original series\n",
      "Block width 20:0.0345988021435\n",
      "\n",
      "R0 averaged over Bootstrap series\n",
      "Block width 21:0.0341298309042\n",
      "R0 computed on original series\n",
      "Block width 21:0.0345988021435\n",
      "\n"
     ]
    }
   ],
   "source": [
    "# Divide the specific bootstrapped values by N for the selected block size\n",
    "r0_permDN = r0_perm/N\n",
    "\n",
    "# Fit a cubic spline to the unique values\n",
    "f = interpolate.interp1d(range(r0_bar.shape[0]), r0_bar, kind='cubic')\n",
    "\n",
    "approximateSharpe = np.sign(R0/N)*f_a(np.abs(R0/N))*(1.0-8.0/3.0 * nu**(-1.5))\n",
    "print(approximateSharpe)"
   ]
  },
  {
   "cell_type": "code",
   "execution_count": null,
   "metadata": {
    "collapsed": true
   },
   "outputs": [],
   "source": []
  }
 ],
 "metadata": {
  "anaconda-cloud": {},
  "kernelspec": {
   "display_name": "Python [conda root]",
   "language": "python",
   "name": "conda-root-py"
  },
  "language_info": {
   "codemirror_mode": {
    "name": "ipython",
    "version": 3
   },
   "file_extension": ".py",
   "mimetype": "text/x-python",
   "name": "python",
   "nbconvert_exporter": "python",
   "pygments_lexer": "ipython3",
   "version": "3.5.2"
  }
 },
 "nbformat": 4,
 "nbformat_minor": 1
}
